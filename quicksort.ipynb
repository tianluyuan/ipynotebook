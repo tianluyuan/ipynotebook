{
 "metadata": {
  "name": "quicksort"
 }, 
 "nbformat": 2, 
 "worksheets": [
  {
   "cells": [
    {
     "cell_type": "code", 
     "collapsed": false, 
     "input": [
      "import array", 
      "arr = array.array('i', [1,3,2040, 1203, 10, 230, 40,4155,564,51,2,1,32,8,23,5,86,13,165,484,0,132, -1212])", 
      "", 
      "def swap(arr, idx_1, idx_2):", 
      "    arr_1 = arr[idx_1]", 
      "    arr[idx_1] = arr[idx_2]", 
      "    arr[idx_2] = arr_1", 
      "", 
      "    ", 
      "def quicksort(array_to_sort, left_idx=None, right_idx=None):", 
      "    if left_idx is None:", 
      "        left_idx = 0", 
      "        right_idx = len(array_to_sort)-1", 
      "    ", 
      "    if left_idx >= right_idx:", 
      "        return", 
      "", 
      "    pivot = array_to_sort[right_idx]", 
      "    curr_idx = left_idx", 
      "    for idx, element in enumerate(array_to_sort[left_idx:right_idx]):", 
      "        if element <= pivot:", 
      "            swap(array_to_sort, curr_idx, idx+left_idx)", 
      "            curr_idx += 1", 
      "", 
      "    swap(array_to_sort, curr_idx, right_idx)", 
      "    quicksort(array_to_sort, left_idx, curr_idx-1)", 
      "    quicksort(array_to_sort, curr_idx+1, right_idx)", 
      " ", 
      "quicksort(arr)", 
      "arr"
     ], 
     "language": "python", 
     "outputs": [
      {
       "output_type": "pyout", 
       "prompt_number": 1, 
       "text": [
        "array('i', [-1212, 0, 1, 1, 2, 3, 5, 8, 10, 13, 23, 32, 40, 51, 86, 132, 165, 230, 484, 564, 1203, 2040, 4155])"
       ]
      }
     ], 
     "prompt_number": 1
    }, 
    {
     "cell_type": "code", 
     "collapsed": true, 
     "input": [], 
     "language": "python", 
     "outputs": []
    }
   ]
  }
 ]
}