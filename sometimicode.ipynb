{
 "metadata": {
  "name": "sometimicode"
 },
 "nbformat": 3,
 "nbformat_minor": 0,
 "worksheets": [
  {
   "cells": [
    {
     "cell_type": "code",
     "collapsed": false,
     "input": [
      "# an integer is 32 bits\n",
      "size_of_int = 32\n",
      "\n",
      "\n",
      "def sum_bit( bit1, bit2):\n",
      "    return ( bit1 & bit2, bit1 ^ bit2)\n",
      "\n",
      "def add( first, second):\n",
      "    overflow = 0\n",
      "    sum = 0\n",
      "    for i in range(size_of_int):\n",
      "\n",
      "        # Get the bit @ i\n",
      "        bit1 = first & ( 1 << i)\n",
      "        ## shift it back to index 0\n",
      "        bit1 = bit1 >> i\n",
      "\n",
      "        # repeat for second one\n",
      "        bit2 = second & (1 << i)\n",
      "        bit2 = bit2 >> i\n",
      "\n",
      "        overflow1, first_sum  = sum_bit(bit1, overflow)\n",
      "        overflow2, second_sum = sum_bit(bit2, first_sum)\n",
      "\n",
      "        #there is at most 1 over flow if thre was any over flow in either\n",
      "        overflow = overflow1 | overflow2\n",
      "\n",
      "        #shift back into right place\n",
      "        second_sum = second_sum << i\n",
      "\n",
      "        # set bit in sum to correct value\n",
      "        sum = sum | second_sum\n",
      "\n",
      "    return sum"
     ],
     "language": "python",
     "metadata": {},
     "outputs": [],
     "prompt_number": 3
    },
    {
     "cell_type": "code",
     "collapsed": false,
     "input": [
      "add(-1,-1)"
     ],
     "language": "python",
     "metadata": {},
     "outputs": [
      {
       "output_type": "pyout",
       "prompt_number": 7,
       "text": [
        "4294967294"
       ]
      }
     ],
     "prompt_number": 7
    },
    {
     "cell_type": "code",
     "collapsed": false,
     "input": [],
     "language": "python",
     "metadata": {},
     "outputs": []
    }
   ],
   "metadata": {}
  }
 ]
}