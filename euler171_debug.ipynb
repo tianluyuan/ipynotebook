{
 "metadata": {
  "name": "euler171_debug"
 }, 
 "nbformat": 2, 
 "worksheets": [
  {
   "cells": [
    {
     "cell_type": "code", 
     "collapsed": false, 
     "input": [
      "perf_squares =[1,", 
      " 4,", 
      " 9,", 
      " 16,", 
      " 25,", 
      " 36,", 
      " 49,", 
      " 64,", 
      " 81,", 
      " 100,", 
      " 121,", 
      " 144,", 
      " 169,", 
      " 196,", 
      " 225,", 
      " 256,", 
      " 289,", 
      " 324,", 
      " 361,", 
      " 400,", 
      " 441,", 
      " 484,", 
      " 529]", 
      " ", 
      "sum_tot = 0", 
      "for i in range(100000):", 
      "    str_i = str(i)", 
      "    ss = 0", 
      "    for dig in str_i:", 
      "        ss += int(dig)**2", 
      "", 
      "    if ss in perf_squares:    ", 
      "        sum_tot += i"
     ], 
     "language": "python", 
     "outputs": [], 
     "prompt_number": 23
    }, 
    {
     "cell_type": "code", 
     "collapsed": false, 
     "input": [
      "sum_tot"
     ], 
     "language": "python", 
     "outputs": [
      {
       "output_type": "pyout", 
       "prompt_number": 24, 
       "text": [
        "161887270"
       ]
      }
     ], 
     "prompt_number": 24
    }, 
    {
     "cell_type": "code", 
     "collapsed": false, 
     "input": [
      "81*7"
     ], 
     "language": "python", 
     "outputs": [
      {
       "output_type": "pyout", 
       "prompt_number": 12, 
       "text": [
        "567"
       ]
      }
     ], 
     "prompt_number": 12
    }, 
    {
     "cell_type": "code", 
     "collapsed": false, 
     "input": [
      "import math", 
      "math.sqrt(529)", 
      "math.sqrt(1521)"
     ], 
     "language": "python", 
     "outputs": [
      {
       "output_type": "pyout", 
       "prompt_number": 16, 
       "text": [
        "39.0"
       ]
      }
     ], 
     "prompt_number": 16
    }, 
    {
     "cell_type": "code", 
     "collapsed": false, 
     "input": [
      "24**2"
     ], 
     "language": "python", 
     "outputs": [
      {
       "output_type": "pyout", 
       "prompt_number": 15, 
       "text": [
        "576"
       ]
      }
     ], 
     "prompt_number": 15
    }, 
    {
     "cell_type": "code", 
     "collapsed": false, 
     "input": [
      "# For a positive integer n, let f(n) be the sum of the squares of the digits (in base 10) of n, e.g.", 
      "", 
      "#   f(3) = 3^2 = 9,", 
      "", 
      "#   f(25) = 2^2 + 5^2 = 4 + 25 = 29,", 
      "", 
      "#   f(442) = 4^2 + 4^2 + 2^2 = 16 + 16 + 4 = 36", 
      "", 
      "# Find the last nine digits of the sum of all n, 0 < n < 10^20, such that f(n) is a perfect square.", 
      "", 
      "#Answer:", 
      "\t#142989277", 
      "", 
      "from time import time; t=time()", 
      "from math import sqrt", 
      "", 
      "M = 9", 
      "N = 20", 
      "", 
      "def pe171(n, m):", 
      "    up = int(sqrt(n * 81))", 
      "    uplimit = up ** 2 + 1", 
      "    d = [[[0, 0] for j in range(uplimit)] for i in range(n)]", 
      "    for k in range(10):", 
      "        d[0][k*k] = [1, k]", 
      "    for i in range(1, n):", 
      "        ii = 10 ** i if i < m else 0", 
      "        for j in range(uplimit):", 
      "            for k in range(10):", 
      "                kk = k * k", 
      "                if j < kk:", 
      "                    break", 
      "                p, q = d[i-1][j-kk]", 
      "                d[i][j][0] += p", 
      "                d[i][j][1] += q + ii * k * p", 
      "    # print [(k, d[n-1][k*k]) for k in range(up+1)]", 
      "    return str(sum(d[n-1][k*k][1] for k in range(1, up+1)))[-m:]", 
      "", 
      "print(pe171(N, M), time()-t)"
     ], 
     "language": "python", 
     "outputs": [
      {
       "output_type": "stream", 
       "stream": "stdout", 
       "text": [
        "('142989277', 0.25769996643066406)"
       ]
      }
     ], 
     "prompt_number": 34
    }, 
    {
     "cell_type": "code", 
     "collapsed": false, 
     "input": [
      "210*2000"
     ], 
     "language": "python", 
     "outputs": [
      {
       "output_type": "pyout", 
       "prompt_number": 33, 
       "text": [
        "420000"
       ]
      }
     ], 
     "prompt_number": 33
    }, 
    {
     "cell_type": "code", 
     "collapsed": false, 
     "input": [
      "def p171(limit):", 
      "    tot, tlen = [0], [1]", 
      "", 
      "    for i in xrange(1, limit + 1):", 
      "        totnew = [0] * (81 * i + 1)", 
      "        tlennew = [0] * (81 * i + 1)", 
      "        for i in xrange(0, len(tot)):", 
      "            for d in xrange(10):", 
      "                totnew[i + d**2] += 10 * tot[i] + d * tlen[i]", 
      "                tlennew[i + d**2] += tlen[i]", 
      "        tot, tlen = totnew, tlennew", 
      "    ", 
      "    return sum([tot[i**2] for i in xrange(1, int((81 * limit)**0.5) + 1)]) % 10**9", 
      "", 
      "print p171(19)"
     ], 
     "language": "python", 
     "outputs": [
      {
       "output_type": "stream", 
       "stream": "stdout", 
       "text": [
        "767733060"
       ]
      }
     ], 
     "prompt_number": 47
    }, 
    {
     "cell_type": "code", 
     "collapsed": false, 
     "input": [
      "l = range(1, 4)"
     ], 
     "language": "python", 
     "outputs": [], 
     "prompt_number": 43
    }, 
    {
     "cell_type": "code", 
     "collapsed": false, 
     "input": [
      "l"
     ], 
     "language": "python", 
     "outputs": [
      {
       "output_type": "pyout", 
       "prompt_number": 44, 
       "text": [
        "[1, 2, 3]"
       ]
      }
     ], 
     "prompt_number": 44
    }, 
    {
     "cell_type": "code", 
     "collapsed": true, 
     "input": [], 
     "language": "python", 
     "outputs": []
    }
   ]
  }
 ]
}